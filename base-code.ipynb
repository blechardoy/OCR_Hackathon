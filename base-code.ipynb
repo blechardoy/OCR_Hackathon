{
 "cells": [
  {
   "cell_type": "markdown",
   "metadata": {},
   "source": [
    "# 1. Data Loading"
   ]
  },
  {
   "cell_type": "code",
   "execution_count": null,
   "metadata": {
    "_cell_guid": "b1076dfc-b9ad-4769-8c92-a6c4dae69d19",
    "_uuid": "8f2839f25d086af736a60e9eeb907d3b93b6e0e5",
    "execution": {
     "iopub.execute_input": "2025-02-20T17:28:53.953348Z",
     "iopub.status.busy": "2025-02-20T17:28:53.952876Z",
     "iopub.status.idle": "2025-02-20T17:28:54.685418Z",
     "shell.execute_reply": "2025-02-20T17:28:54.684173Z",
     "shell.execute_reply.started": "2025-02-20T17:28:53.953312Z"
    },
    "trusted": true
   },
   "outputs": [],
   "source": [
    "# import os\n",
    "# for dirname, _, filenames in os.walk('/kaggle/input'):\n",
    "#     for filename in filenames:\n",
    "#         print(os.path.join(dirname, filename))\n",
    "\n",
    "# You can write up to 20GB to the current directory (/kaggle/working/) that gets preserved as output when you create a version using \"Save & Run All\" \n",
    "# You can also write temporary files to /kaggle/temp/, but they won't be saved outside of the current session"
   ]
  },
  {
   "cell_type": "markdown",
   "metadata": {},
   "source": [
    "# 2. Package imports"
   ]
  },
  {
   "cell_type": "code",
   "execution_count": 5,
   "metadata": {
    "execution": {
     "iopub.execute_input": "2025-02-21T17:09:29.462265Z",
     "iopub.status.busy": "2025-02-21T17:09:29.461938Z",
     "iopub.status.idle": "2025-02-21T17:09:36.066701Z",
     "shell.execute_reply": "2025-02-21T17:09:36.065563Z",
     "shell.execute_reply.started": "2025-02-21T17:09:29.46224Z"
    },
    "trusted": true
   },
   "outputs": [],
   "source": [
    "import json\n",
    "import functools\n",
    "import operator\n",
    "from typing import List, Dict, Any\n",
    "import os\n",
    "import re\n",
    "from PIL import Image, ImageDraw, ImageFont\n",
    "import cv2\n",
    "import numpy as np\n",
    "import pandas as pd\n",
    "import matplotlib.pyplot as plt\n",
    "import matplotlib.font_manager as fm\n",
    "import plotly.graph_objects as go\n",
    "from tqdm import tqdm\n",
    "\n",
    "import easyocr\n",
    "from sklearn.model_selection import train_test_split"
   ]
  },
  {
   "cell_type": "markdown",
   "metadata": {},
   "source": [
    "# 3. Examples\n",
    "## 3.a. Open a single image"
   ]
  },
  {
   "cell_type": "code",
   "execution_count": null,
   "metadata": {
    "execution": {
     "iopub.execute_input": "2025-02-21T17:09:36.068908Z",
     "iopub.status.busy": "2025-02-21T17:09:36.068262Z",
     "iopub.status.idle": "2025-02-21T17:09:37.2902Z",
     "shell.execute_reply": "2025-02-21T17:09:37.288375Z",
     "shell.execute_reply.started": "2025-02-21T17:09:36.068844Z"
    },
    "trusted": true
   },
   "outputs": [],
   "source": [
    "id = '00040534'\n",
    "image_path = f'/kaggle/input/intelligent-text-extraction/train/images/{id}.png'\n",
    "with open(f'/kaggle/input/intelligent-text-extraction/train/annotations/{id}.json', 'r') as f:\n",
    "    annotation = json.load(f)\n",
    "image = Image.open(image_path)\n",
    "image"
   ]
  },
  {
   "cell_type": "markdown",
   "metadata": {},
   "source": [
    "## 3.b. Display the bounding box"
   ]
  },
  {
   "cell_type": "code",
   "execution_count": null,
   "metadata": {
    "execution": {
     "iopub.execute_input": "2025-02-21T17:09:37.292528Z",
     "iopub.status.busy": "2025-02-21T17:09:37.292065Z",
     "iopub.status.idle": "2025-02-21T17:09:37.304905Z",
     "shell.execute_reply": "2025-02-21T17:09:37.303738Z",
     "shell.execute_reply.started": "2025-02-21T17:09:37.292478Z"
    },
    "trusted": true
   },
   "outputs": [],
   "source": [
    "def draw_boxes(image:Image, annotation:dict) -> Image:\n",
    "    # Create a drawing context\n",
    "    image_with_boxes = image.copy()\n",
    "    draw = ImageDraw.Draw(image_with_boxes)\n",
    "\n",
    "    # Load a font\n",
    "    system_fonts = fm.findSystemFonts(fontpaths=None, fontext='ttf')    \n",
    "    sans_serif_font = next((f for f in system_fonts if 'sans' in f.lower()), None)\n",
    "    \n",
    "    if sans_serif_font:\n",
    "        font = ImageFont.truetype(sans_serif_font, 30)\n",
    "    else:\n",
    "        print(\"No suitable font found, using default\")\n",
    "        font = ImageFont.load_default()\n",
    "\n",
    "    for dict_box in annotation['form']:\n",
    "        text = dict_box['text']\n",
    "        (x_min, y_min, x_max, y_max) = dict_box['box']\n",
    "        if x_min < x_max and y_min< y_max:\n",
    "            # Draw rectangle\n",
    "            draw.rectangle([x_min, y_min, x_max, y_max], outline=\"red\", width=2)\n",
    "            # Add text\n",
    "            draw.text((x_min, y_min - 30), f\"{text}\", fill=\"blue\", font=font)\n",
    "        else:\n",
    "            print(f\"Bounding box is invalid: {dict_box['box']}\")\n",
    "    return image_with_boxes"
   ]
  },
  {
   "cell_type": "code",
   "execution_count": null,
   "metadata": {
    "execution": {
     "iopub.execute_input": "2025-02-21T17:09:37.306508Z",
     "iopub.status.busy": "2025-02-21T17:09:37.306243Z",
     "iopub.status.idle": "2025-02-21T17:09:38.498621Z",
     "shell.execute_reply": "2025-02-21T17:09:38.496934Z",
     "shell.execute_reply.started": "2025-02-21T17:09:37.306487Z"
    },
    "trusted": true
   },
   "outputs": [],
   "source": [
    "# Display the image with bounding boxes\n",
    "draw_boxes(image, annotation)"
   ]
  },
  {
   "cell_type": "markdown",
   "metadata": {},
   "source": [
    "## 3.c. Select only the 'RF' boxes"
   ]
  },
  {
   "cell_type": "code",
   "execution_count": null,
   "metadata": {
    "execution": {
     "iopub.execute_input": "2025-02-21T17:09:38.501167Z",
     "iopub.status.busy": "2025-02-21T17:09:38.500452Z",
     "iopub.status.idle": "2025-02-21T17:09:38.51318Z",
     "shell.execute_reply": "2025-02-21T17:09:38.511583Z",
     "shell.execute_reply.started": "2025-02-21T17:09:38.501118Z"
    },
    "trusted": true
   },
   "outputs": [],
   "source": [
    "# Define a function to draw boxes only if the label correspond to the input\n",
    "def draw_specific_boxes(image:Image, annotation:dict, specific_label:str) -> Image:\n",
    "    # Create a drawing context\n",
    "    image_with_boxes = image.copy()\n",
    "    draw = ImageDraw.Draw(image_with_boxes)\n",
    "\n",
    "    # Load a font\n",
    "    system_fonts = fm.findSystemFonts(fontpaths=None, fontext='ttf')    \n",
    "    sans_serif_font = next((f for f in system_fonts if 'sans' in f.lower()), None)\n",
    "    \n",
    "    if sans_serif_font:\n",
    "        font = ImageFont.truetype(sans_serif_font, 30)\n",
    "    else:\n",
    "        print(\"No suitable font found, using default\")\n",
    "        font = ImageFont.load_default()\n",
    "\n",
    "    for dict_box in annotation['form']:\n",
    "        label = dict_box['label']\n",
    "        if label == specific_label:\n",
    "            text = dict_box['text']\n",
    "            (x_min, y_min, x_max, y_max) = dict_box['box']\n",
    "            if x_min < x_max and y_min< y_max:\n",
    "                # Draw rectangle\n",
    "                draw.rectangle([x_min, y_min, x_max, y_max], outline=\"red\", width=2)\n",
    "                # Add text\n",
    "                draw.text((x_min, y_min - 30), f\"{text}\", fill=\"blue\", font=font)\n",
    "            else:\n",
    "                print(f\"Bounding box is invalid: {dict_box['box']}\")\n",
    "    return image_with_boxes"
   ]
  },
  {
   "cell_type": "code",
   "execution_count": null,
   "metadata": {
    "execution": {
     "iopub.execute_input": "2025-02-21T17:09:38.514908Z",
     "iopub.status.busy": "2025-02-21T17:09:38.514471Z",
     "iopub.status.idle": "2025-02-21T17:09:39.402436Z",
     "shell.execute_reply": "2025-02-21T17:09:39.400312Z",
     "shell.execute_reply.started": "2025-02-21T17:09:38.514858Z"
    },
    "trusted": true
   },
   "outputs": [],
   "source": [
    "draw_specific_boxes(image, annotation, 'RF')"
   ]
  },
  {
   "cell_type": "markdown",
   "metadata": {},
   "source": [
    "##### "
   ]
  },
  {
   "cell_type": "markdown",
   "metadata": {},
   "source": [
    "# 4. Example of OCR prediction : easyOCR"
   ]
  },
  {
   "cell_type": "code",
   "execution_count": null,
   "metadata": {
    "execution": {
     "iopub.execute_input": "2025-02-21T17:09:39.631054Z",
     "iopub.status.busy": "2025-02-21T17:09:39.63071Z",
     "iopub.status.idle": "2025-02-21T17:09:39.636177Z",
     "shell.execute_reply": "2025-02-21T17:09:39.634817Z",
     "shell.execute_reply.started": "2025-02-21T17:09:39.631028Z"
    },
    "trusted": true
   },
   "outputs": [],
   "source": [
    "def analyze_image(image_path:str, language:str='en') -> list:\n",
    "    \"\"\"\n",
    "    Analyze the image to detect text using EasyOCR.\n",
    "\n",
    "    Parameters:\n",
    "    image_path (str): The path to the image file.\n",
    "\n",
    "    Returns:\n",
    "    list: A list of tuples containing the bounding box, detected text, and confidence score for each detected text region.\n",
    "    \"\"\"\n",
    "    # Create a Reader object for text detection\n",
    "    reader = easyocr.Reader([language], gpu=False)  # You can activate/deactivate GPU\n",
    "    \n",
    "    # Read the text from the image\n",
    "    resultats = reader.readtext(image_path)\n",
    "    \n",
    "    return resultats"
   ]
  },
  {
   "cell_type": "code",
   "execution_count": null,
   "metadata": {
    "execution": {
     "iopub.execute_input": "2025-02-21T17:09:40.0683Z",
     "iopub.status.busy": "2025-02-21T17:09:40.067974Z",
     "iopub.status.idle": "2025-02-21T17:09:40.075193Z",
     "shell.execute_reply": "2025-02-21T17:09:40.073811Z",
     "shell.execute_reply.started": "2025-02-21T17:09:40.068276Z"
    },
    "trusted": true
   },
   "outputs": [],
   "source": [
    "def transform_result(results: List[Dict[str, Any]]) -> str:\n",
    "    \"\"\"\n",
    "    Transforms OCR results into Challenge's JSON format.\n",
    "\n",
    "    Args:\n",
    "        results (List[Dict[str, Any]]): A list of OCR results where each result is a dictionary containing:\n",
    "            - bbox (List[List[int]]): Bounding box coordinates.\n",
    "            - text (str): Detected text.\n",
    "            - prob (float): Confidence score.\n",
    "\n",
    "    Returns:\n",
    "        str: A JSON string representing the transformed OCR results.\n",
    "    \"\"\"\n",
    "    form_data = []\n",
    "    for idx, (bbox, text, prob) in enumerate(results):\n",
    "        # Convert bounding box coordinates to integers\n",
    "        bbox = [[int(coord) for coord in point] for point in bbox]\n",
    "        box_extracted = [bbox[0], bbox[2]]\n",
    "        flat_box = [coord for sublist in box_extracted for coord in sublist]\n",
    "        \n",
    "        # Create the structure for each element\n",
    "        item = {\n",
    "            \"box\": flat_box,\n",
    "            \"text\": text,\n",
    "            \"label\": \"RF\",  #### WARNING : Customize this field as needed !\n",
    "            \"words\": [{\"box\": flat_box, \"text\": text}],  # Each word is encapsulated in a 'words' list\n",
    "            \"linking\": [],  # This part can be used to link words if necessary\n",
    "            \"id\": idx\n",
    "        }\n",
    "        \n",
    "        form_data.append(item)\n",
    "\n",
    "    # Convert to JSON\n",
    "    json_data = {\n",
    "        \"form\": form_data\n",
    "    }\n",
    "\n",
    "    # Convert JSON data to a formatted string\n",
    "    #json_output = json.dumps(json_data, indent=4, ensure_ascii=False)\n",
    "    return json_data"
   ]
  },
  {
   "cell_type": "code",
   "execution_count": null,
   "metadata": {
    "execution": {
     "iopub.execute_input": "2025-02-21T17:09:40.507726Z",
     "iopub.status.busy": "2025-02-21T17:09:40.507399Z",
     "iopub.status.idle": "2025-02-21T17:10:44.717787Z",
     "shell.execute_reply": "2025-02-21T17:10:44.716696Z",
     "shell.execute_reply.started": "2025-02-21T17:09:40.5077Z"
    },
    "trusted": true
   },
   "outputs": [],
   "source": [
    "results = transform_result(analyze_image(image_path))\n",
    "print(results)"
   ]
  },
  {
   "cell_type": "code",
   "execution_count": null,
   "metadata": {
    "execution": {
     "iopub.execute_input": "2025-02-21T17:10:44.722711Z",
     "iopub.status.busy": "2025-02-21T17:10:44.722425Z",
     "iopub.status.idle": "2025-02-21T17:10:45.739017Z",
     "shell.execute_reply": "2025-02-21T17:10:45.737321Z",
     "shell.execute_reply.started": "2025-02-21T17:10:44.722685Z"
    },
    "trusted": true
   },
   "outputs": [],
   "source": [
    "draw_specific_boxes(image, results, 'RF')"
   ]
  },
  {
   "cell_type": "markdown",
   "metadata": {},
   "source": [
    "# 5. Compute score"
   ]
  },
  {
   "cell_type": "markdown",
   "metadata": {},
   "source": [
    "You need to put the true annotations in a folder and your predictions in another folder to compute results"
   ]
  },
  {
   "cell_type": "code",
   "execution_count": null,
   "metadata": {
    "execution": {
     "iopub.execute_input": "2025-02-21T17:10:45.742378Z",
     "iopub.status.busy": "2025-02-21T17:10:45.741627Z",
     "iopub.status.idle": "2025-02-21T17:10:45.749563Z",
     "shell.execute_reply": "2025-02-21T17:10:45.748099Z",
     "shell.execute_reply.started": "2025-02-21T17:10:45.742297Z"
    },
    "trusted": true
   },
   "outputs": [],
   "source": [
    "# Create a folder to store JSON predictions\n",
    "output_folder = 'output_easyocr'\n",
    "# !mkdir -p {output_folder}\n",
    "os.makedirs(output_folder, exist_ok=True)\n",
    "\n",
    "# Create a folder to store ground truth JSON\n",
    "ground_truth_folder = 'ground_truth_annotations'\n",
    "# !mkdir -p {ground_truth_folder}\n",
    "os.makedirs(ground_truth_folder, exist_ok=True)"
   ]
  },
  {
   "cell_type": "code",
   "execution_count": null,
   "metadata": {
    "execution": {
     "iopub.execute_input": "2025-02-21T17:10:45.75166Z",
     "iopub.status.busy": "2025-02-21T17:10:45.751173Z",
     "iopub.status.idle": "2025-02-21T17:10:45.7824Z",
     "shell.execute_reply": "2025-02-21T17:10:45.781106Z",
     "shell.execute_reply.started": "2025-02-21T17:10:45.751618Z"
    },
    "trusted": true
   },
   "outputs": [],
   "source": [
    "# Save predictions\n",
    "json_output = json.dumps(results, indent=4, ensure_ascii=False)\n",
    "with open(f'{output_folder}/{id}.json', 'w', encoding='utf-8') as f:\n",
    "    f.write(json_output)\n",
    "\n",
    "# Save true annotations\n",
    "input_path = f'/kaggle/input/intelligent-text-extraction/train/annotations/{id}.json'\n",
    "output_path = f'{ground_truth_folder}/{id}.json'\n",
    "\n",
    "with open(input_path, 'r', encoding='utf-8') as file:\n",
    "    annotation = json.load(file)\n",
    "\n",
    "# Write the annotation JSON to the ground truth folder\n",
    "with open(output_path, 'w', encoding='utf-8') as f:\n",
    "    json.dump(annotation, f, ensure_ascii=False, indent=4)  # Properly write JSON\n"
   ]
  },
  {
   "cell_type": "code",
   "execution_count": null,
   "metadata": {
    "execution": {
     "iopub.execute_input": "2025-02-21T17:10:45.78364Z",
     "iopub.status.busy": "2025-02-21T17:10:45.783362Z",
     "iopub.status.idle": "2025-02-21T17:10:45.796738Z",
     "shell.execute_reply": "2025-02-21T17:10:45.79568Z",
     "shell.execute_reply.started": "2025-02-21T17:10:45.783606Z"
    },
    "trusted": true
   },
   "outputs": [],
   "source": [
    "# Utils functions to compute result\n",
    "\n",
    "def clean_txt(s: str) -> str:\n",
    "    return re.sub(r'[^A-Z0-9]+', '', s.upper())\n",
    "\n",
    "\n",
    "get_rects = functools.partial(map, operator.itemgetter('box'))\n",
    "get_texts = functools.partial(map, operator.itemgetter('text'))\n",
    "\n",
    "\n",
    "def compute_overlap(gt: np.array, preds: np.array) -> np.array:\n",
    "    _gt = np.tile(np.expand_dims(gt, axis=1), (1, preds.shape[0], 1))\n",
    "    _p = np.tile(np.expand_dims(preds, axis=0), (gt.shape[0], 1, 1))\n",
    "\n",
    "    dx = np.minimum(_gt[:, :, 2], _p[:, :, 2]) - np.maximum(_gt[:, :, 0], _p[:, :, 0])\n",
    "    dy = np.minimum(_gt[:, :, 3], _p[:, :, 3]) - np.maximum(_gt[:, :, 1], _p[:, :, 1])\n",
    "\n",
    "    area = dx * dy\n",
    "    # valid area if dx > 0 and dy > 0\n",
    "    overlap = np.where(np.logical_and(dx > 0, dy > 0), area, 0)\n",
    "\n",
    "    return overlap\n",
    "\n",
    "\n",
    "def compute_area(rects: np.array) -> np.array:\n",
    "    return (rects[:, 2] - rects[:, 0]) * (rects[:, 3] - rects[:, 1])\n",
    "\n",
    "\n",
    "def compute_iou(gt: np.array, preds: np.array) -> np.array:\n",
    "    gt_area = compute_area(gt)\n",
    "    p_area = compute_area(preds)\n",
    "\n",
    "    _gt_area = np.tile(gt_area[:, np.newaxis], (1, preds.shape[0]))\n",
    "    _p_area = np.tile(p_area[np.newaxis, ], (gt.shape[0], 1))\n",
    "\n",
    "    overlap = compute_overlap(gt, preds)\n",
    "\n",
    "    _iou = overlap / (_gt_area + _p_area - overlap)\n",
    "\n",
    "    return np.amax(_iou, axis=1), np.argmax(_iou, axis=1)\n",
    "\n",
    "\n",
    "def compute_correct_rf(gt_texts: list, preds_texts: list, iou_results, iou_threshold=0.25) -> int:\n",
    "    iou, best_iou_id = iou_results\n",
    "    n_corrects = 0\n",
    "    for i_txt, text in enumerate(gt_texts):\n",
    "        if clean_txt(text) in clean_txt(preds_texts[best_iou_id[i_txt]]) and iou[i_txt] > iou_threshold:\n",
    "            n_corrects += 1\n",
    "\n",
    "    return n_corrects\n",
    "\n",
    "\n",
    "def compute_results(gt: list, preds: list):\n",
    "    gt = list(filter(lambda x: x['label'] == 'RF', gt))\n",
    "    gt_rects = np.array(list(get_rects(gt)))\n",
    "    gt_texts = list(get_texts(gt))\n",
    "\n",
    "    p_rects = np.array(list(get_rects(preds)))\n",
    "    p_texts = list(get_texts(preds))\n",
    "\n",
    "    n_gt_rects = len(gt_rects)\n",
    "\n",
    "    if n_gt_rects == 0:\n",
    "        return 1.0, 1.0\n",
    "\n",
    "    iou, best_iou_id = compute_iou(gt_rects, p_rects)\n",
    "    # print(\"IOU: \", iou)\n",
    "    # print(\"Best IOU ID: \", best_iou_id)\n",
    "    n_corrects = compute_correct_rf(gt_texts, p_texts, (iou, best_iou_id))\n",
    "\n",
    "    return np.sum(iou)/n_gt_rects, n_corrects/n_gt_rects"
   ]
  },
  {
   "cell_type": "code",
   "execution_count": null,
   "metadata": {
    "execution": {
     "iopub.execute_input": "2025-02-21T17:10:45.798114Z",
     "iopub.status.busy": "2025-02-21T17:10:45.797775Z",
     "iopub.status.idle": "2025-02-21T17:10:45.8148Z",
     "shell.execute_reply": "2025-02-21T17:10:45.813671Z",
     "shell.execute_reply.started": "2025-02-21T17:10:45.798077Z"
    },
    "trusted": true
   },
   "outputs": [],
   "source": [
    "def compute_result(ground_truth, predictions):\n",
    "    means_ious = []\n",
    "    means_rf = []\n",
    "\n",
    "    for file in os.listdir(ground_truth):\n",
    "        with open(os.path.join(ground_truth, file), 'rb') as f:\n",
    "            gt_json = json.load(f)\n",
    "\n",
    "        pred_file = os.path.join(predictions, file)\n",
    "        if os.path.isfile(pred_file):\n",
    "            with open(pred_file, 'rb') as f:\n",
    "                preds_json = json.load(f)\n",
    "\n",
    "        else:\n",
    "            means_ious.append(0)\n",
    "            means_rf.append(0)\n",
    "            continue\n",
    "\n",
    "        file_iou, file_rf = compute_results(\n",
    "            gt_json['form'],\n",
    "            preds_json['form']\n",
    "        )\n",
    "        means_ious.append(file_iou)\n",
    "        means_rf.append(file_rf)\n",
    "    print(f\"IOU: {np.mean(means_ious) * 100:.2f}\")\n",
    "    print(f\"RF Correct: {np.mean(means_rf) * 100:.2f}\")\n",
    "    return means_ious, means_rf\n"
   ]
  },
  {
   "cell_type": "code",
   "execution_count": null,
   "metadata": {
    "execution": {
     "iopub.execute_input": "2025-02-21T17:10:45.817698Z",
     "iopub.status.busy": "2025-02-21T17:10:45.817341Z",
     "iopub.status.idle": "2025-02-21T17:10:45.832492Z",
     "shell.execute_reply": "2025-02-21T17:10:45.83137Z",
     "shell.execute_reply.started": "2025-02-21T17:10:45.817668Z"
    },
    "trusted": true
   },
   "outputs": [],
   "source": [
    "gt_folder = os.path.join(os.getcwd(), ground_truth_folder)\n",
    "pred_folder = os.path.join(os.getcwd(), output_folder)\n",
    "\n",
    "iou, rf = compute_result(gt_folder, pred_folder)"
   ]
  },
  {
   "cell_type": "markdown",
   "metadata": {},
   "source": [
    "# 6. From json to csv format"
   ]
  },
  {
   "cell_type": "markdown",
   "metadata": {},
   "source": [
    "You need to create csv and make sure commas are replaced by semi-commas."
   ]
  },
  {
   "cell_type": "code",
   "execution_count": null,
   "metadata": {
    "execution": {
     "iopub.execute_input": "2025-02-21T17:16:57.855344Z",
     "iopub.status.busy": "2025-02-21T17:16:57.855017Z",
     "iopub.status.idle": "2025-02-21T17:16:57.868544Z",
     "shell.execute_reply": "2025-02-21T17:16:57.867616Z",
     "shell.execute_reply.started": "2025-02-21T17:16:57.85532Z"
    },
    "trusted": true
   },
   "outputs": [],
   "source": [
    "import os\n",
    "import json\n",
    "import pandas as pd\n",
    "\n",
    "# Initialize an empty list to store the form data\n",
    "form_data_list = []\n",
    "ids = []\n",
    "# Iterate through each file in the directory\n",
    "for filename in os.listdir(output_folder):\n",
    "    if filename.endswith('.json'):\n",
    "        file_path = os.path.join(output_folder, filename)\n",
    "        with open(file_path, 'r') as file:\n",
    "            data = json.load(file)\n",
    "            form_data_list.append(data['form'])\n",
    "            ids.append(filename.split('.')[0])\n",
    "# Create a DataFrame from the form data list\n",
    "target_form = pd.DataFrame()\n",
    "target_form['id'] = ids\n",
    "target_form['target'] = form_data_list\n",
    "target_form['target'] = target_form['target'].astype(str)\n",
    "target_form = target_form.replace(',', ';', regex=True)  # Here we replace , by ;\n",
    "target_form['Usage'] = 'Public'\n"
   ]
  },
  {
   "cell_type": "code",
   "execution_count": null,
   "metadata": {
    "execution": {
     "iopub.execute_input": "2025-02-21T17:17:05.133449Z",
     "iopub.status.busy": "2025-02-21T17:17:05.133027Z",
     "iopub.status.idle": "2025-02-21T17:17:05.146969Z",
     "shell.execute_reply": "2025-02-21T17:17:05.145739Z",
     "shell.execute_reply.started": "2025-02-21T17:17:05.133416Z"
    },
    "trusted": true
   },
   "outputs": [],
   "source": [
    "target_form.to_csv('sample_submission.csv', index=False, sep=',')"
   ]
  },
  {
   "cell_type": "markdown",
   "metadata": {},
   "source": [
    "# 7. Example of a Random Submission"
   ]
  },
  {
   "cell_type": "code",
   "execution_count": null,
   "metadata": {
    "trusted": true
   },
   "outputs": [],
   "source": [
    "def submit():\n",
    "    start_path = \"/kaggle/input/intelligent-text-extraction/test/images\"\n",
    "    \n",
    "    dataframe_liste = []\n",
    "    for root, dirs, files in os.walk(start_path):\n",
    "        for file in files:\n",
    "            image_path = os.path.join(root, file)\n",
    "            image_id = os.path.basename(image_path).split(\".\")[0]\n",
    "            image = Image.open(image_path)\n",
    "    \n",
    "            ### change code here to incorporate your predictions\n",
    "            box = list(np.random.randint(0, 4000, 4))\n",
    "            text = \"ETY017359D3\"\n",
    "            ###\n",
    "            \n",
    "            target = [{'box': box, 'text': text}]\n",
    "            target_tocsv = str(target).replace(',', ';')\n",
    "            line = {\"id\": image_id, \"target\": target_tocsv, \"Usage\": \"Public\"}\n",
    "            dataframe_liste.append(line)\n",
    "    \n",
    "    df = pd.DataFrame(dataframe_liste)\n",
    "    df.to_csv(\"submission.csv\", index=False)\n",
    "\n",
    "submit()"
   ]
  }
 ],
 "metadata": {
  "kaggle": {
   "accelerator": "none",
   "dataSources": [
    {
     "databundleVersionId": 11063785,
     "sourceId": 91851,
     "sourceType": "competition"
    }
   ],
   "dockerImageVersionId": 30886,
   "isGpuEnabled": false,
   "isInternetEnabled": false,
   "language": "python",
   "sourceType": "notebook"
  },
  "kernelspec": {
   "display_name": "py-latest",
   "language": "python",
   "name": "python3"
  },
  "language_info": {
   "codemirror_mode": {
    "name": "ipython",
    "version": 3
   },
   "file_extension": ".py",
   "mimetype": "text/x-python",
   "name": "python",
   "nbconvert_exporter": "python",
   "pygments_lexer": "ipython3",
   "version": "3.12.5"
  }
 },
 "nbformat": 4,
 "nbformat_minor": 4
}

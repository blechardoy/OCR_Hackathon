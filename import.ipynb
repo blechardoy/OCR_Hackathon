{
 "cells": [
  {
   "cell_type": "code",
   "execution_count": 1,
   "metadata": {},
   "outputs": [
    {
     "name": "stdout",
     "output_type": "stream",
     "text": [
      "Téléchargement du dataset en cours...\n",
      "Downloading intelligent-text-extraction.zip to ./data\n"
     ]
    },
    {
     "name": "stderr",
     "output_type": "stream",
     "text": [
      "100%|██████████| 397M/397M [01:02<00:00, 6.63MB/s] \n"
     ]
    },
    {
     "name": "stdout",
     "output_type": "stream",
     "text": [
      "\n",
      "Le dataset pour la compétition 'intelligent-text-extraction' a été téléchargé dans le dossier './data'\n",
      "Décompression du fichier : intelligent-text-extraction.zip\n",
      "Décompression terminée : intelligent-text-extraction.zip\n",
      "Fichier ZIP supprimé : intelligent-text-extraction.zip\n"
     ]
    }
   ],
   "source": [
    "import os\n",
    "import subprocess\n",
    "import zipfile\n",
    "\n",
    "def download_and_unzip_kaggle_dataset(competition_name, download_path=\"./data\"):\n",
    "    \"\"\"\n",
    "    Télécharge un dataset Kaggle pour une compétition donnée et le décompresse.\n",
    "    \n",
    "    Arguments :\n",
    "    - competition_name (str) : Le nom de la compétition Kaggle (comme dans l'URL).\n",
    "    - download_path (str) : Le répertoire où télécharger et décompresser le dataset.\n",
    "    \"\"\"\n",
    "    # Création du dossier de destination s'il n'existe pas\n",
    "    if not os.path.exists(download_path):\n",
    "        os.makedirs(download_path)\n",
    "    \n",
    "    # Construction de la commande de téléchargement\n",
    "    command = [\n",
    "        \"kaggle\",\n",
    "        \"competitions\",\n",
    "        \"download\",\n",
    "        \"-c\",\n",
    "        competition_name,\n",
    "        \"-p\",\n",
    "        download_path\n",
    "    ]\n",
    "    \n",
    "    try:\n",
    "        # Exécution de la commande\n",
    "        print(\"Téléchargement du dataset en cours...\")\n",
    "        subprocess.run(command, check=True)\n",
    "        print(f\"Le dataset pour la compétition '{competition_name}' a été téléchargé dans le dossier '{download_path}'\")\n",
    "        \n",
    "        # Décompression des fichiers ZIP dans le dossier de destination\n",
    "        for file in os.listdir(download_path):\n",
    "            if file.endswith(\".zip\"):\n",
    "                file_path = os.path.join(download_path, file)\n",
    "                print(f\"Décompression du fichier : {file}\")\n",
    "                try:\n",
    "                    with zipfile.ZipFile(file_path, 'r') as zip_ref:\n",
    "                        zip_ref.extractall(download_path)\n",
    "                    print(f\"Décompression terminée : {file}\")\n",
    "                    # Suppression du fichier ZIP après décompression\n",
    "                    os.remove(file_path)\n",
    "                    print(f\"Fichier ZIP supprimé : {file}\")\n",
    "                except zipfile.BadZipFile:\n",
    "                    print(f\"Erreur : Le fichier {file} n'est pas un ZIP valide.\")\n",
    "        \n",
    "    except subprocess.CalledProcessError as e:\n",
    "        print(\"Erreur lors du téléchargement du dataset :\", e)\n",
    "    except FileNotFoundError:\n",
    "        print(\"Assurez-vous que Kaggle est installé et configuré correctement.\")\n",
    "\n",
    "# Utilisation de la fonction\n",
    "competition_name = \"intelligent-text-extraction\"\n",
    "download_path = \"./data\"\n",
    "download_and_unzip_kaggle_dataset(competition_name, download_path)\n"
   ]
  }
 ],
 "metadata": {
  "kernelspec": {
   "display_name": "base",
   "language": "python",
   "name": "python3"
  },
  "language_info": {
   "codemirror_mode": {
    "name": "ipython",
    "version": 3
   },
   "file_extension": ".py",
   "mimetype": "text/x-python",
   "name": "python",
   "nbconvert_exporter": "python",
   "pygments_lexer": "ipython3",
   "version": "3.12.7"
  }
 },
 "nbformat": 4,
 "nbformat_minor": 2
}
